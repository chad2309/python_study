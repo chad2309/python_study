{
 "cells": [
  {
   "cell_type": "code",
   "execution_count": 1,
   "metadata": {},
   "outputs": [],
   "source": [
    "import pandas as pd\n",
    "import numpy as np\n",
    "from sklearn.linear_model import LinearRegression\n"
   ]
  },
  {
   "cell_type": "code",
   "execution_count": 2,
   "metadata": {},
   "outputs": [],
   "source": [
    "import pymysql\n",
    "\n",
    "# MariaDB 연결 설정\n",
    "conn = pymysql.connect(\n",
    "    host='localhost',\n",
    "    user='root',\n",
    "    password='',\n",
    "    db='charging',\n",
    "    charset='utf8'\n",
    ")\n"
   ]
  },
  {
   "cell_type": "code",
   "execution_count": 3,
   "metadata": {},
   "outputs": [],
   "source": [
    "results = []\n",
    "\n",
    "# SQL 쿼리 실행\n",
    "with conn.cursor() as cursor:\n",
    "    sql_queries = [\n",
    "        \"select * from charging.signet_payment\", \n",
    "        \"select * from charging.stcc_payment\", \n",
    "        \"select * from charging.open_info\"\n",
    "    ]\n",
    "    \n",
    "    for sql in sql_queries:\n",
    "        cursor.execute(sql)\n",
    "        result = cursor.fetchall()\n",
    "        results.append(result)\n"
   ]
  },
  {
   "cell_type": "code",
   "execution_count": 4,
   "metadata": {},
   "outputs": [],
   "source": [
    "signet_payment_df, stcc_payment_df, open_info_df = results\n"
   ]
  },
  {
   "cell_type": "code",
   "execution_count": 5,
   "metadata": {},
   "outputs": [
    {
     "data": {
      "text/plain": [
       "[['platform',\n",
       "  'area_1',\n",
       "  'area_2',\n",
       "  'station_id',\n",
       "  'station_nm',\n",
       "  'address',\n",
       "  'charger_id',\n",
       "  'charger_type',\n",
       "  'charge_start',\n",
       "  'charge_end',\n",
       "  'charge_time',\n",
       "  'm_id',\n",
       "  'user_nm',\n",
       "  'card_no',\n",
       "  'charge_amt',\n",
       "  'rate',\n",
       "  'payment_amt',\n",
       "  'update_dt'],\n",
       " ['platform',\n",
       "  'charger_type',\n",
       "  'charge_idx',\n",
       "  'meter_raw',\n",
       "  'user_nm',\n",
       "  'charge_start',\n",
       "  'charge_end',\n",
       "  'charge_amt_kwh',\n",
       "  'power_amt_kw',\n",
       "  'rate',\n",
       "  'payment_amt',\n",
       "  'charger_status',\n",
       "  'charge_cnt',\n",
       "  'meter_no',\n",
       "  'charger_no',\n",
       "  'qrcode_no',\n",
       "  'update_dt'],\n",
       " ['platform',\n",
       "  'station_id',\n",
       "  'station_nm',\n",
       "  'charger_id',\n",
       "  'charger_type',\n",
       "  '22_oct',\n",
       "  '22_nov',\n",
       "  '22_dec',\n",
       "  '23_jan',\n",
       "  '23_feb',\n",
       "  '23_mar',\n",
       "  '23_apr',\n",
       "  '23_may',\n",
       "  '23_jun',\n",
       "  '23_jul',\n",
       "  '23_aug',\n",
       "  'open_dt',\n",
       "  'remark',\n",
       "  'kw',\n",
       "  'install_dt',\n",
       "  'contract_1',\n",
       "  'contract_2',\n",
       "  'contract',\n",
       "  'mixed',\n",
       "  'address',\n",
       "  'area_1',\n",
       "  'area_2',\n",
       "  'as_div',\n",
       "  'as_team',\n",
       "  'sales_div',\n",
       "  'sales_team',\n",
       "  'install_rate',\n",
       "  'facility_type_2',\n",
       "  'add_dupl',\n",
       "  'add_dupl_id',\n",
       "  'update_dt',\n",
       "  'haus_no',\n",
       "  'parking_cnt']]"
      ]
     },
     "execution_count": 5,
     "metadata": {},
     "output_type": "execute_result"
    }
   ],
   "source": [
    "# 예시 코드\n",
    "column_names = []\n",
    "\n",
    "# SQL 쿼리 실행\n",
    "with conn.cursor() as cursor:\n",
    "    sql_queries = [\n",
    "        \"select * from charging.signet_payment\", \n",
    "        \"select * from charging.stcc_payment\", \n",
    "        \"select * from charging.open_info\"\n",
    "    ]\n",
    "    \n",
    "    for sql in sql_queries:\n",
    "        cursor.execute(sql)\n",
    "        # 각 쿼리의 컬럼 이름 가져오기\n",
    "        columns = [desc[0] for desc in cursor.description]\n",
    "        column_names.append(columns)\n",
    "\n",
    "column_names\n"
   ]
  },
  {
   "cell_type": "code",
   "execution_count": 9,
   "metadata": {},
   "outputs": [],
   "source": [
    "signet_payment_df = pd.DataFrame(results[0], columns=column_names[0])\n",
    "stcc_payment_df = pd.DataFrame(results[1], columns=column_names[1])\n",
    "open_info_df = pd.DataFrame(results[2], columns=column_names[2])\n"
   ]
  },
  {
   "cell_type": "code",
   "execution_count": 10,
   "metadata": {},
   "outputs": [],
   "source": [
    "# `charge_start` 컬럼을 datetime 형태로 변환\n",
    "signet_payment_df['charge_start'] = pd.to_datetime(signet_payment_df['charge_start'])\n",
    "stcc_payment_df['charge_start'] = pd.to_datetime(stcc_payment_df['charge_start'], errors='coerce')\n",
    "\n",
    "# 두 데이터 프레임을 병합\n",
    "combined_data = pd.concat([signet_payment_df, stcc_payment_df], ignore_index=True)\n",
    "\n",
    "# 월별로 충전량을 집계\n",
    "combined_data['year_month'] = combined_data['charge_start'].dt.to_period('M')\n",
    "monthly_charge = combined_data.groupby(['station_id', 'year_month'])['charge_amt'].sum().reset_index()\n",
    "\n",
    "# 연도와 월 특성 추가\n",
    "monthly_charge['year'] = monthly_charge['year_month'].dt.year\n",
    "monthly_charge['month'] = monthly_charge['year_month'].dt.month\n",
    "\n",
    "# open_info 데이터와 병합하여 충전소의 특성 추가\n",
    "monthly_charge_with_features = pd.merge(monthly_charge, open_info_df, left_on='station_id', right_on='station_id', how='left')\n",
    "\n",
    "# 불필요한 컬럼 제거\n",
    "monthly_charge_with_features.drop(['year_month'], axis=1, inplace=True)\n"
   ]
  },
  {
   "cell_type": "code",
   "execution_count": 11,
   "metadata": {},
   "outputs": [],
   "source": [
    "from sklearn.model_selection import train_test_split\n"
   ]
  },
  {
   "cell_type": "code",
   "execution_count": 12,
   "metadata": {},
   "outputs": [],
   "source": [
    "# 범주형 특성을 원-핫 인코딩\n",
    "categorical_columns = ['platform', 'area_1', 'area_2', 'charger_type']\n",
    "encoded_data = pd.get_dummies(monthly_charge_with_features, columns=categorical_columns)\n",
    "\n",
    "# 예측 변수와 목표 변수 분할\n",
    "X = encoded_data.drop('charge_amt', axis=1)\n",
    "y = encoded_data['charge_amt']\n",
    "\n",
    "# 데이터를 훈련 세트와 테스트 세트로 분할\n",
    "X_train, X_test, y_train, y_test = train_test_split(X, y, test_size=0.2, random_state=42)\n"
   ]
  },
  {
   "cell_type": "code",
   "execution_count": 13,
   "metadata": {},
   "outputs": [
    {
     "data": {
      "text/plain": [
       "Index(['station_id', 'station_nm', 'charger_id', '22_oct', '22_nov', '22_dec',\n",
       "       '23_jan', '23_feb', '23_mar', '23_apr', '23_may', '23_jun', '23_jul',\n",
       "       '23_aug', 'open_dt', 'remark', 'kw', 'install_dt', 'contract_1',\n",
       "       'contract_2', 'contract', 'mixed', 'address', 'as_div', 'as_team',\n",
       "       'sales_div', 'sales_team', 'install_rate', 'facility_type_2',\n",
       "       'add_dupl', 'add_dupl_id', 'update_dt', 'haus_no', 'parking_cnt'],\n",
       "      dtype='object')"
      ]
     },
     "execution_count": 13,
     "metadata": {},
     "output_type": "execute_result"
    }
   ],
   "source": [
    "# X_train 데이터프레임 내의 문자열 컬럼 확인\n",
    "string_columns = X_train.select_dtypes(include=['object']).columns\n",
    "string_columns\n"
   ]
  },
  {
   "cell_type": "code",
   "execution_count": 14,
   "metadata": {},
   "outputs": [],
   "source": [
    "selected_columns = ['station_id', 'station_nm', 'charger_id', '23_aug', 'open_dt', 'remark',\n",
    "       'kw', 'install_dt', 'contract_1', 'contract_2', 'contract', 'mixed',\n",
    "       'address', 'as_div', 'as_team', 'sales_div', 'sales_team',\n",
    "       'install_rate', 'facility_type_2', 'add_dupl', 'add_dupl_id',\n",
    "       'update_dt', 'haus_no', 'parking_cnt']\n",
    "\n",
    "X_train = X_train[selected_columns]\n",
    "X_test = X_test[selected_columns]\n"
   ]
  },
  {
   "cell_type": "code",
   "execution_count": 15,
   "metadata": {},
   "outputs": [],
   "source": [
    "X_train_encoded = pd.get_dummies(X_train, columns=['station_nm', 'charger_id', 'remark', 'address', 'as_div', 'as_team', 'sales_div', 'sales_team', 'facility_type_2'])\n",
    "X_test_encoded = pd.get_dummies(X_test, columns=['station_nm', 'charger_id', 'remark', 'address', 'as_div', 'as_team', 'sales_div', 'sales_team', 'facility_type_2'])\n"
   ]
  },
  {
   "cell_type": "code",
   "execution_count": 16,
   "metadata": {},
   "outputs": [],
   "source": [
    "# 원-핫 인코딩할 카테고리컬 컬럼 선택\n",
    "categorical_columns = ['station_id', 'station_nm', 'charger_id', 'remark', 'address', 'as_div', 'as_team', 'sales_div', 'sales_team', 'facility_type_2']\n",
    "\n",
    "# 선택한 컬럼들을 원-핫 인코딩\n",
    "X_train_encoded = pd.get_dummies(X_train, columns=categorical_columns)\n",
    "X_test_encoded = pd.get_dummies(X_test, columns=categorical_columns)\n"
   ]
  },
  {
   "cell_type": "code",
   "execution_count": null,
   "metadata": {},
   "outputs": [],
   "source": [
    "# X_train_encoded와 X_test_encoded에 원-핫 인코딩 적용 후에 문자열 값을 숫자로 변환하는 예시\n",
    "X_train_encoded = X_train_encoded.apply(lambda col: pd.to_numeric(col, errors='coerce'))\n",
    "X_test_encoded = X_test_encoded.apply(lambda col: pd.to_numeric(col, errors='coerce'))"
   ]
  },
  {
   "cell_type": "code",
   "execution_count": null,
   "metadata": {},
   "outputs": [],
   "source": [
    "# NaN 값은 적절한 값으로 대체\n",
    "X_train_encoded.fillna(0, inplace=True)\n",
    "X_test_encoded.fillna(0, inplace=True)\n"
   ]
  },
  {
   "cell_type": "code",
   "execution_count": null,
   "metadata": {},
   "outputs": [],
   "source": [
    "# 선형 회귀 모델 훈련\n",
    "lr_model = LinearRegression()\n",
    "lr_model.fit(X_train_encoded, y_train)"
   ]
  },
  {
   "cell_type": "code",
   "execution_count": null,
   "metadata": {},
   "outputs": [],
   "source": [
    "# 테스트 세트에서의 예측값 계산\n",
    "test_predictions = lr_model.predict(X_test_encoded)"
   ]
  },
  {
   "cell_type": "code",
   "execution_count": 19,
   "metadata": {},
   "outputs": [],
   "source": [
    "# X_train_encoded와 X_test_encoded에 원-핫 인코딩 적용 후에 문자열 값을 숫자로 변환하는 예시\n",
    "X_train_encoded = X_train_encoded.apply(lambda col: pd.to_numeric(col, errors='coerce'))\n",
    "X_test_encoded = X_test_encoded.apply(lambda col: pd.to_numeric(col, errors='coerce'))\n",
    "\n",
    "# NaN 값은 적절한 값으로 대체\n",
    "X_train_encoded.fillna(0, inplace=True)\n",
    "X_test_encoded.fillna(0, inplace=True)\n",
    "\n",
    "# 선형 회귀 모델 훈련\n",
    "lr_model = LinearRegression()\n",
    "lr_model.fit(X_train_encoded, y_train)\n",
    "\n",
    "# 테스트 세트에서의 예측값 계산\n",
    "test_predictions = lr_model.predict(X_test_encoded)\n"
   ]
  }
 ],
 "metadata": {
  "kernelspec": {
   "display_name": "base",
   "language": "python",
   "name": "python3"
  },
  "language_info": {
   "codemirror_mode": {
    "name": "ipython",
    "version": 3
   },
   "file_extension": ".py",
   "mimetype": "text/x-python",
   "name": "python",
   "nbconvert_exporter": "python",
   "pygments_lexer": "ipython3",
   "version": "3.11.5"
  },
  "orig_nbformat": 4
 },
 "nbformat": 4,
 "nbformat_minor": 2
}
